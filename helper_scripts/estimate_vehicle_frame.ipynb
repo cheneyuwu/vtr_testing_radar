{
 "cells": [
  {
   "cell_type": "code",
   "execution_count": 1,
   "metadata": {},
   "outputs": [],
   "source": [
    "import numpy as np\n",
    "import numpy.linalg as npla\n",
    "import matplotlib.pyplot as plt\n",
    "\n",
    "\n",
    "from pylgmath import Transformation, se3op\n",
    "from pysteam.problem import OptimizationProblem, StaticNoiseModel, L2LossFunc, WeightedLeastSquareCostTerm\n",
    "from pysteam.solver import GaussNewtonSolver\n",
    "from pysteam.evaluable import se3 as se3ev\n",
    "from pysteam.evaluable import Evaluable, Node, Jacobians\n",
    "from pysteam.evaluable.se3 import SE3StateVar, compose_velocity, compose_rinv\n",
    "from pysteam.evaluable.vspace import VSpaceStateVar\n",
    "\n",
    "%matplotlib inline\n",
    "plt.rcParams.update({\n",
    "    \"text.usetex\": True,\n",
    "    \"font.family\": \"serif\",\n",
    "    \"font.serif\": [\"Times\"],\n",
    "    'font.size': 14,\n",
    "})\n",
    "\n",
    "np.set_printoptions(6, suppress=True)"
   ]
  },
  {
   "cell_type": "code",
   "execution_count": 2,
   "metadata": {},
   "outputs": [],
   "source": [
    "class KinematicErrorEvaluator(Evaluable):\n",
    "  \"\"\"Evaluates radial velocity error.\"\"\"\n",
    "\n",
    "  def __init__(\n",
    "      self,\n",
    "      w_iv_inv: Evaluable,\n",
    "  ) -> None:\n",
    "    \"\"\"\n",
    "    Args:\n",
    "      w_iv_inv: body-velocity of the moving frame (vehicle or sensor frame)\n",
    "      pv: cartesian coordinate of the point in the moving frame\n",
    "      r: measured radial velocity\n",
    "    \"\"\"\n",
    "    super().__init__()\n",
    "\n",
    "    self._w_iv_inv: Evaluable = w_iv_inv\n",
    "\n",
    "    self._D = np.array([\n",
    "        [0, 1, 0, 0, 0, 0],\n",
    "        [0, 0, 1, 0, 0, 0],\n",
    "        [0, 0, 0, 1, 0, 0],\n",
    "        [0, 0, 0, 0, 1, 0],\n",
    "    ])\n",
    "\n",
    "  @property\n",
    "  def active(self) -> bool:\n",
    "    return self._w_iv_inv.active\n",
    "\n",
    "  def forward(self) -> Node:\n",
    "    child = self._w_iv_inv.forward()\n",
    "    value = self._D @ child.value\n",
    "    return Node(value, child)\n",
    "\n",
    "  def backward(self, lhs: np.ndarray, node: Node, jacs: Jacobians) -> None:\n",
    "    if self._w_iv_inv.active:\n",
    "      self._w_iv_inv.backward(lhs @ self._D, node.children[0], jacs)"
   ]
  },
  {
   "cell_type": "code",
   "execution_count": 5,
   "metadata": {},
   "outputs": [
    {
     "name": "stdout",
     "output_type": "stream",
     "text": [
      "[5.661306 0.051206 0.140473 0.035137 0.032454 0.151391]\n",
      "[5.673892 0.145748 0.32053  0.040992 0.032275 0.134034]\n"
     ]
    }
   ],
   "source": [
    "w_ms_in_s = np.loadtxt('/home/yuchen/ASRL/temp/lidar/aeva/boreas-2022-04-05-23-35/boreas-2022-04-05-23-35.kinematics_adjusted/w_mr_in_r.txt')\n",
    "w_ms_in_s.shape\n",
    "print(np.mean(np.abs(w_ms_in_s), axis=0))\n",
    "w_ms_in_s = np.loadtxt('/home/yuchen/ASRL/temp/lidar/aeva/boreas-2022-04-05-23-35/boreas-2022-04-05-23-35.kinematics/w_mr_in_r.txt')\n",
    "w_ms_in_s.shape\n",
    "print(np.mean(np.abs(w_ms_in_s), axis=0))"
   ]
  },
  {
   "cell_type": "code",
   "execution_count": null,
   "metadata": {},
   "outputs": [],
   "source": [
    "## setup trajectory\n",
    "# state variables\n",
    "T_vs_var = SE3StateVar(Transformation(T_ba=np.eye(4)))\n",
    "\n",
    "## radial velocity measurement cost terms\n",
    "noise_model = StaticNoiseModel(np.eye(4))\n",
    "loss_func = L2LossFunc()\n",
    "meas_cost_terms = []\n",
    "for i in range(w_ms_in_s.shape[0]):\n",
    "  w_ms_in_s_var = VSpaceStateVar(w_ms_in_s[i].reshape(6, 1), locked=True)\n",
    "  w_iv_inv_eval = compose_velocity(T_vs_var, w_ms_in_s_var)\n",
    "  error_func = KinematicErrorEvaluator(w_iv_inv_eval)\n",
    "  meas_cost_terms.append(WeightedLeastSquareCostTerm(error_func, noise_model, loss_func))\n",
    "\n",
    "# the problem is not well-constrained, we need to add a prior. This prior below encourages the velocity to be zero. It\n",
    "#   1. penalizes translational velocity along z-axis and rotational velocity along x-axis and y-axis - since the problem is 2D\n",
    "#   2. penalizes translational velocity along y-axis more than x-axis - so that we converge to the correct solution\n",
    "prior_T_vs_var = SE3StateVar(Transformation(T_ba=np.eye(4)), locked=True)\n",
    "noise_model = StaticNoiseModel(np.diag([1e4, 1e4, 1e4, 1e4, 1e4, 1e4]))\n",
    "loss_func = L2LossFunc()\n",
    "error_func = se3ev.tran2vec(compose_rinv(T_vs_var, prior_T_vs_var))\n",
    "prior_cost_term = WeightedLeastSquareCostTerm(error_func, noise_model, loss_func)\n",
    "\n",
    "opt_prob = OptimizationProblem()\n",
    "opt_prob.add_state_var(T_vs_var)\n",
    "opt_prob.add_cost_term(prior_cost_term, *meas_cost_terms)\n",
    "\n",
    "gauss_newton = GaussNewtonSolver(opt_prob, verbose=True, max_iterations=100)\n",
    "gauss_newton.optimize()\n",
    "\n",
    "print(T_vs_var.value)\n"
   ]
  }
 ],
 "metadata": {
  "interpreter": {
   "hash": "916dbcbb3f70747c44a77c7bcd40155683ae19c65e1c03b4aa3499c5328201f1"
  },
  "kernelspec": {
   "display_name": "Python 3.8.10 64-bit",
   "language": "python",
   "name": "python3"
  },
  "language_info": {
   "codemirror_mode": {
    "name": "ipython",
    "version": 3
   },
   "file_extension": ".py",
   "mimetype": "text/x-python",
   "name": "python",
   "nbconvert_exporter": "python",
   "pygments_lexer": "ipython3",
   "version": "3.8.10"
  },
  "orig_nbformat": 4
 },
 "nbformat": 4,
 "nbformat_minor": 2
}
